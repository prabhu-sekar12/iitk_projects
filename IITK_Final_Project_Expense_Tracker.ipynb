{
 "cells": [
  {
   "cell_type": "code",
   "execution_count": 1,
   "id": "e7206898-33af-4064-81cd-dc27c047b9be",
   "metadata": {},
   "outputs": [
    {
     "name": "stdout",
     "output_type": "stream",
     "text": [
      "Expense Tracker Tool using python! - Final tested version\n"
     ]
    }
   ],
   "source": [
    "#Final version of Expense Tracker project code\n",
    "print('Expense Tracker Tool using python! - Final tested version')"
   ]
  },
  {
   "cell_type": "code",
   "execution_count": 3,
   "id": "80d48645-a585-432c-a1ef-020e437502f3",
   "metadata": {},
   "outputs": [
    {
     "data": {
      "text/plain": [
       "'simplified  Requirement\\n\\nCreate an interactive menu:\\n• Build a function to display a menu with the following options:\\no Add expense\\no View expenses\\no Track budget\\no Save expenses\\no Exit\\n• Allow the user to enter a number to choose an option\\n• Implement the following conditions:\\no If the user selects option 1, call the function to add an expense\\no If the user selects option 2, call the function to view expenses\\no If the user selects option 3, call the function to track the budget\\no If the user selects option 4, call the function to save expenses to the file\\no If the user selects option 5, save the expenses and exit the program\\n\\n'"
      ]
     },
     "execution_count": 3,
     "metadata": {},
     "output_type": "execute_result"
    }
   ],
   "source": [
    "'''simplified  Requirement\n",
    "\n",
    "Create an interactive menu:\n",
    "• Build a function to display a menu with the following options:\n",
    "o Add expense\n",
    "o View expenses\n",
    "o Track budget\n",
    "o Save expenses\n",
    "o Exit\n",
    "• Allow the user to enter a number to choose an option\n",
    "• Implement the following conditions:\n",
    "o If the user selects option 1, call the function to add an expense\n",
    "o If the user selects option 2, call the function to view expenses\n",
    "o If the user selects option 3, call the function to track the budget\n",
    "o If the user selects option 4, call the function to save expenses to the file\n",
    "o If the user selects option 5, save the expenses and exit the program\n",
    "\n",
    "'''"
   ]
  },
  {
   "cell_type": "code",
   "execution_count": 4,
   "id": "4d1f0ac5-8ad8-4caf-b720-8e1cd3e80223",
   "metadata": {},
   "outputs": [],
   "source": [
    "#Creating functions to handle the menu items first\n",
    "#Function to get user input about the expense and store it in dictionary object and add the object in list\n",
    "def add_expense(expense_list):\n",
    "    dt = input(\"Enter expense date in YYYY-MM-DD format\")\n",
    "    cat = input(\"Enter the category of expense:\")\n",
    "    amt = float(input(\"Enter the expense amount:\"))\n",
    "    desc = input(\"Enter the description of the expense:\")\n",
    "    expense_dict = {\"Date\":dt, \"Category\":cat, \"Amount\":amt, \"Description\":desc}\n",
    "    expense_list.append(expense_dict)\n",
    "    print(\"Provided expense added successfully!\")"
   ]
  },
  {
   "cell_type": "code",
   "execution_count": 5,
   "id": "7314f29c-2a6d-40d8-94f0-3b18233a68cd",
   "metadata": {},
   "outputs": [],
   "source": [
    "#Function to display all the existing expense details stored in list\n",
    "def show_expense_list(expense_list):\n",
    "    for expense_dict in expense_list:\n",
    "        #Validate if all fields are available\n",
    "        if (expense_dict['Date']!='' and expense_dict['Category']!='' and expense_dict['Amount']!='' and expense_dict['Description']!='' ):  \n",
    "            print(expense_dict)\n",
    "        else:\n",
    "            print(f\"Expense entry is not having all requried data: {expense_dict}\")"
   ]
  },
  {
   "cell_type": "code",
   "execution_count": 6,
   "id": "a23f4ae5-dc11-47e0-8fa9-4ea352eae8be",
   "metadata": {},
   "outputs": [],
   "source": [
    "#Function to read the expenses stored in csv and store it in list of dictionary objects\n",
    "import csv\n",
    "def load_exp_list(filename='Expense_list.csv'):\n",
    "    expense_list=[]\n",
    "    with open(filename, mode='r', newline='') as file:\n",
    "            reader = csv.DictReader(file)\n",
    "            for i in reader:\n",
    "                expense_list.append(i)\n",
    "    return(expense_list)\n",
    "    print('Expense Details loaded to local expense_list variable')"
   ]
  },
  {
   "cell_type": "code",
   "execution_count": 7,
   "id": "95ea4420-3e54-4a13-abfb-253340178942",
   "metadata": {},
   "outputs": [],
   "source": [
    "#Function to save/write the expenses back in csv file\n",
    "def save_expense_file(expense_list, filename='Expense_list.csv'):\n",
    "    with open(filename, mode='w', newline='') as file:\n",
    "        writer = csv.DictWriter(file, fieldnames=['Date', 'Category', 'Amount', 'Description'])\n",
    "        writer.writeheader()\n",
    "        for i in expense_list:\n",
    "            writer.writerow(i)\n",
    "    print(\"Expense Details saved to file Expense_list.csv\")"
   ]
  },
  {
   "cell_type": "code",
   "execution_count": 8,
   "id": "17cd14ac-84a5-4eb8-8cc9-b62cd2c13360",
   "metadata": {},
   "outputs": [],
   "source": [
    "#Function to get monthly budget amount from user, to be called once during a program run cycle\n",
    "def set_budget():\n",
    "    budget=float(input(\"Enter the monthly budget amount:\"))\n",
    "    return(budget)"
   ]
  },
  {
   "cell_type": "code",
   "execution_count": 9,
   "id": "5f16b20f-81cc-4ad5-a61a-5b08ac0aa552",
   "metadata": {},
   "outputs": [],
   "source": [
    "#Function to Track user's expenses against set budget value and print the details\n",
    "def track_budget(expense_list, budget):\n",
    "    spent_amount = 0\n",
    "    for i in expense_list:\n",
    "        spent_amount = spent_amount + float(i[\"Amount\"])\n",
    "    print(\"Total Spent Amount for this month is \",spent_amount)\n",
    "    print(\"Budget amount set for this month is \",budget)\n",
    "    if (spent_amount > budget):\n",
    "        print('You have already exceeded the monthly budget')\n",
    "    elif (spent_amount < budget):\n",
    "        print('Your spend is within the monthly budget, remaining amount available is ',budget-spent_amount)\n",
    "    else:\n",
    "        print('Your expenses reached the monthly budget amount ',budget)\n",
    "\n",
    "    return(budget)"
   ]
  },
  {
   "cell_type": "code",
   "execution_count": 10,
   "id": "3d36b62e-42f8-4cd2-8c6b-0cd4ca75e19e",
   "metadata": {},
   "outputs": [],
   "source": [
    "#Function to display user menu and get choice input\n",
    "def menu_display():\n",
    "    print('Personal Expense Menu List:')\n",
    "    print('1. Add Expense')\n",
    "    print('2. View Expenses')\n",
    "    print('3. Track Budget')\n",
    "    print('4. Save Expenses')\n",
    "    print('5. Exit')\n",
    "    user_choice = int(input('Enter your choice (1-5):'))\n",
    "    return(user_choice)"
   ]
  },
  {
   "cell_type": "code",
   "execution_count": 12,
   "id": "00f74915-b332-4dec-8178-f59d1f2f3534",
   "metadata": {},
   "outputs": [],
   "source": [
    "#Main function to integrate the menu and other functions, to be called to execute and call the tool\n",
    "import os\n",
    "def expense_main():\n",
    "    print('Personal Expense Tool - Track your monthly expenses and Budget')\n",
    "    \n",
    "    fp = open('Expense_list.csv', 'a')\n",
    "    fp.close\n",
    "    \n",
    "    #Load already saved expenses\n",
    "    expense_list = load_exp_list()\n",
    "\n",
    "    loop_flag = True\n",
    "    budget=0\n",
    "\n",
    "    while loop_flag:\n",
    "        #Get user input\n",
    "        user_choice = menu_display()\n",
    "\n",
    "        if (user_choice ==1):\n",
    "            add_expense(expense_list)\n",
    "        elif (user_choice ==2):\n",
    "            show_expense_list(expense_list)\n",
    "        elif (user_choice ==3):\n",
    "            if (budget=='' or budget ==0):\n",
    "                budget=set_budget()\n",
    "            track_budget(expense_list,budget)\n",
    "        elif (user_choice ==4):\n",
    "            save_expense_file(expense_list)\n",
    "        elif (user_choice ==5):\n",
    "            save_expense_file(expense_list)\n",
    "            print('Exiting the program, thank you!')\n",
    "            break\n",
    "        else:\n",
    "            print('Invalid choice, please enter between 1-5')"
   ]
  },
  {
   "cell_type": "code",
   "execution_count": null,
   "id": "c1763111-bcc1-4e7c-86d8-3469af7749b6",
   "metadata": {},
   "outputs": [],
   "source": [
    "#Main function call\n",
    "expense_main()"
   ]
  }
 ],
 "metadata": {
  "kernelspec": {
   "display_name": "Python 3 (ipykernel)",
   "language": "python",
   "name": "python3"
  },
  "language_info": {
   "codemirror_mode": {
    "name": "ipython",
    "version": 3
   },
   "file_extension": ".py",
   "mimetype": "text/x-python",
   "name": "python",
   "nbconvert_exporter": "python",
   "pygments_lexer": "ipython3",
   "version": "3.12.7"
  }
 },
 "nbformat": 4,
 "nbformat_minor": 5
}
